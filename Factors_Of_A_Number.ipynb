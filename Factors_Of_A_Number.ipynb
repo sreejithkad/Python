{
  "nbformat": 4,
  "nbformat_minor": 0,
  "metadata": {
    "colab": {
      "name": "Factors_Of_A_Number.ipynb",
      "provenance": [],
      "collapsed_sections": []
    },
    "kernelspec": {
      "name": "python3",
      "display_name": "Python 3"
    },
    "language_info": {
      "name": "python"
    }
  },
  "cells": [
    {
      "cell_type": "markdown",
      "metadata": {
        "id": "EO8qfZ-Q88cz"
      },
      "source": [
        "# WRITE A PYTHON PROGRAM TO FIND THE FACTORS OF A NUMBER"
      ]
    },
    {
      "cell_type": "code",
      "metadata": {
        "colab": {
          "base_uri": "https://localhost:8080/"
        },
        "id": "S8bBSgXX7xNc",
        "outputId": "2bd66bb6-0d27-45b9-df2a-2097e2e49e59"
      },
      "source": [
        "number=int(input(\"Enter the number: \"))\n",
        "\n",
        "\n",
        "print(\"The factors of\", number, \"are: \")\n",
        "\n",
        "\n",
        "for i in range(1, number+1):\n",
        "\n",
        "  if(number%i==0):\n",
        "    \n",
        "    print(i)"
      ],
      "execution_count": 4,
      "outputs": [
        {
          "output_type": "stream",
          "name": "stdout",
          "text": [
            "Enter the number: 380\n",
            "The factors of 380 are: \n",
            "1\n",
            "2\n",
            "4\n",
            "5\n",
            "10\n",
            "19\n",
            "20\n",
            "38\n",
            "76\n",
            "95\n",
            "190\n",
            "380\n"
          ]
        }
      ]
    },
    {
      "cell_type": "code",
      "metadata": {
        "id": "Xo5AVb5J8M_b"
      },
      "source": [
        ""
      ],
      "execution_count": null,
      "outputs": []
    }
  ]
}