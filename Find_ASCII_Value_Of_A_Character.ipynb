{
  "nbformat": 4,
  "nbformat_minor": 0,
  "metadata": {
    "colab": {
      "name": "Find_ASCII_Value_Of_A_Character.ipynb",
      "provenance": [],
      "collapsed_sections": []
    },
    "kernelspec": {
      "name": "python3",
      "display_name": "Python 3"
    },
    "language_info": {
      "name": "python"
    }
  },
  "cells": [
    {
      "cell_type": "markdown",
      "metadata": {
        "id": "m21iDR9L6uIp"
      },
      "source": [
        "# WRITE A PYTHON PROGRAM TO FIND ASCII VALUE OF A CHARACTER"
      ]
    },
    {
      "cell_type": "code",
      "metadata": {
        "colab": {
          "base_uri": "https://localhost:8080/"
        },
        "id": "lCm2hroy5WIn",
        "outputId": "03b793b8-f052-4aac-90c0-b1349aa8ef0c"
      },
      "source": [
        "character=str(input(\"Enter the alphabhet to know its ASCII value: \"))\n",
        "\n",
        "\n",
        "\n",
        "print(\"The ASCII value of\", character, \"is\", ord(character))"
      ],
      "execution_count": 5,
      "outputs": [
        {
          "output_type": "stream",
          "name": "stdout",
          "text": [
            "Enter the alphabhet to know its ASCII value: S\n",
            "The ASCII value of S is 83\n"
          ]
        }
      ]
    },
    {
      "cell_type": "code",
      "metadata": {
        "id": "JGXevxKG6a5A"
      },
      "source": [
        ""
      ],
      "execution_count": null,
      "outputs": []
    }
  ]
}