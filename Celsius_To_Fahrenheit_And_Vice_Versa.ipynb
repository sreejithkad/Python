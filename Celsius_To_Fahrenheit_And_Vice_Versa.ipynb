{
  "nbformat": 4,
  "nbformat_minor": 0,
  "metadata": {
    "colab": {
      "name": "Celsius_To_Fahrenheit_And_Vice_Versa.ipynb",
      "provenance": [],
      "collapsed_sections": []
    },
    "kernelspec": {
      "name": "python3",
      "display_name": "Python 3"
    },
    "language_info": {
      "name": "python"
    }
  },
  "cells": [
    {
      "cell_type": "markdown",
      "metadata": {
        "id": "QpfGfnOfMB6h"
      },
      "source": [
        "# WRITE A PROGRAM TO CONVERT CELSIUS INTO FAHRENHEIT"
      ]
    },
    {
      "cell_type": "code",
      "metadata": {
        "colab": {
          "base_uri": "https://localhost:8080/"
        },
        "id": "TefsNBP6KLqA",
        "outputId": "b18933e2-2556-46ba-e4dc-71de0c0f0827"
      },
      "source": [
        "celsius=float(input(\"Enter the celsius value: \"))\n",
        "\n",
        "\n",
        "fahrenheit=(celsius*1.8)+32\n",
        "\n",
        "\n",
        "print(celsius, \" degree celsisus is \", fahrenheit, \"fahrenheit\")"
      ],
      "execution_count": 7,
      "outputs": [
        {
          "output_type": "stream",
          "name": "stdout",
          "text": [
            "Enter the celsius value: 80\n",
            "80.0  degree celsisus is  176.0 fahrenheit\n"
          ]
        }
      ]
    },
    {
      "cell_type": "markdown",
      "metadata": {
        "id": "2NjnebfWMWQZ"
      },
      "source": [
        "# WRITE A PROGRAM TO CONVERT FAHRENHEIT INTO CELSIUS"
      ]
    },
    {
      "cell_type": "code",
      "metadata": {
        "colab": {
          "base_uri": "https://localhost:8080/"
        },
        "id": "PETEXMO_K6RR",
        "outputId": "714c8fd8-be99-44f7-869b-017d50598ddf"
      },
      "source": [
        "fahren= float(input(\"Enter the fahrenheit value: \"))\n",
        "\n",
        "celsius=(fahren-32)/1.8\n",
        "\n",
        "print(fahren, \"fahrenheit is\", celsius, \"degree celsius\")"
      ],
      "execution_count": 8,
      "outputs": [
        {
          "output_type": "stream",
          "name": "stdout",
          "text": [
            "Enter the fahrenheit value: 176\n",
            "176.0 fahrenheit is 80.0 degree celsius\n"
          ]
        }
      ]
    },
    {
      "cell_type": "code",
      "metadata": {
        "id": "45gyXVgtM9Uc"
      },
      "source": [
        ""
      ],
      "execution_count": null,
      "outputs": []
    }
  ]
}