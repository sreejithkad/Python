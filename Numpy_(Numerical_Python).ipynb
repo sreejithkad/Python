{
  "nbformat": 4,
  "nbformat_minor": 0,
  "metadata": {
    "colab": {
      "name": "Numpy_(Numerical_Python).ipynb",
      "provenance": [],
      "collapsed_sections": []
    },
    "kernelspec": {
      "name": "python3",
      "display_name": "Python 3"
    },
    "language_info": {
      "name": "python"
    }
  },
  "cells": [
    {
      "cell_type": "code",
      "metadata": {
        "id": "cRbsHIq-B3t5"
      },
      "source": [
        "import numpy as np\n",
        "\n"
      ],
      "execution_count": 1,
      "outputs": []
    },
    {
      "cell_type": "code",
      "metadata": {
        "colab": {
          "base_uri": "https://localhost:8080/"
        },
        "id": "G_QMzAX5E9--",
        "outputId": "1b34b610-03d9-4bc6-8805-5da120d5bb73"
      },
      "source": [
        "my_list=[1,2,3,4,5,6]\n",
        "\n",
        "print(my_list)"
      ],
      "execution_count": 2,
      "outputs": [
        {
          "output_type": "stream",
          "name": "stdout",
          "text": [
            "[1, 2, 3, 4, 5, 6]\n"
          ]
        }
      ]
    },
    {
      "cell_type": "code",
      "metadata": {
        "colab": {
          "base_uri": "https://localhost:8080/"
        },
        "id": "mbGEB6ufFHWQ",
        "outputId": "d015e068-22de-4686-b54b-5d63e5f0bb67"
      },
      "source": [
        "type(my_list)"
      ],
      "execution_count": 3,
      "outputs": [
        {
          "output_type": "execute_result",
          "data": {
            "text/plain": [
              "list"
            ]
          },
          "metadata": {},
          "execution_count": 3
        }
      ]
    },
    {
      "cell_type": "markdown",
      "metadata": {
        "id": "XkbUS7gwFKkv"
      },
      "source": [
        "# CONVERTING LIST INTO AN ARRAY"
      ]
    },
    {
      "cell_type": "code",
      "metadata": {
        "colab": {
          "base_uri": "https://localhost:8080/"
        },
        "id": "72K6geAHFJWQ",
        "outputId": "f8472ade-501c-41ab-cc65-602957f2f160"
      },
      "source": [
        "arr=np.array(my_list)\n",
        "\n",
        "print(arr)"
      ],
      "execution_count": 4,
      "outputs": [
        {
          "output_type": "stream",
          "name": "stdout",
          "text": [
            "[1 2 3 4 5 6]\n"
          ]
        }
      ]
    },
    {
      "cell_type": "markdown",
      "metadata": {
        "id": "sJnknjJtFepn"
      },
      "source": [
        "# MULTINESTED ARRAY"
      ]
    },
    {
      "cell_type": "code",
      "metadata": {
        "colab": {
          "base_uri": "https://localhost:8080/"
        },
        "id": "Ak-KOrryFVRg",
        "outputId": "09382aba-b4ae-4321-8cd2-a5dfe48412c0"
      },
      "source": [
        "my_list_1=[1,2,3,4,5]\n",
        "\n",
        "my_list_2=[6,7,8,9,10]\n",
        "\n",
        "my_list_3=[11,12,13,14,15]\n",
        "\n",
        "multinested_arr=np.array([my_list_1,my_list_2,my_list_3])\n",
        "\n",
        "print(multinested_arr)"
      ],
      "execution_count": 7,
      "outputs": [
        {
          "output_type": "stream",
          "name": "stdout",
          "text": [
            "[[ 1  2  3  4  5]\n",
            " [ 6  7  8  9 10]\n",
            " [11 12 13 14 15]]\n"
          ]
        }
      ]
    },
    {
      "cell_type": "markdown",
      "metadata": {
        "id": "sfo6XfYZGV5X"
      },
      "source": [
        "# TO KNOW THE MULTINESTED ARRAY SHAPE"
      ]
    },
    {
      "cell_type": "code",
      "metadata": {
        "colab": {
          "base_uri": "https://localhost:8080/"
        },
        "id": "zvIYevZrFclv",
        "outputId": "e8728f3d-89ac-457b-a390-61daa0c4555b"
      },
      "source": [
        "multinested_arr.shape "
      ],
      "execution_count": 8,
      "outputs": [
        {
          "output_type": "execute_result",
          "data": {
            "text/plain": [
              "(3, 5)"
            ]
          },
          "metadata": {},
          "execution_count": 8
        }
      ]
    },
    {
      "cell_type": "markdown",
      "metadata": {
        "id": "U-WizxzZGiU-"
      },
      "source": [
        "# TO RESHAPE THE MULTINESTED ARRAY"
      ]
    },
    {
      "cell_type": "code",
      "metadata": {
        "colab": {
          "base_uri": "https://localhost:8080/"
        },
        "id": "K_7s-T0tGeu3",
        "outputId": "11197b04-12bf-448b-b4a0-639031aa18f9"
      },
      "source": [
        "multinested_arr.reshape(5,3)                                   # Reshaping into 5 rows and 3 columns"
      ],
      "execution_count": 9,
      "outputs": [
        {
          "output_type": "execute_result",
          "data": {
            "text/plain": [
              "array([[ 1,  2,  3],\n",
              "       [ 4,  5,  6],\n",
              "       [ 7,  8,  9],\n",
              "       [10, 11, 12],\n",
              "       [13, 14, 15]])"
            ]
          },
          "metadata": {},
          "execution_count": 9
        }
      ]
    },
    {
      "cell_type": "markdown",
      "metadata": {
        "id": "5QFmPkWeHK-m"
      },
      "source": [
        "# SLICING IN NUMPY"
      ]
    },
    {
      "cell_type": "code",
      "metadata": {
        "colab": {
          "base_uri": "https://localhost:8080/"
        },
        "id": "Ua8eGwjTGw-v",
        "outputId": "0548379a-e140-4f6b-8586-0dbffaa29c3c"
      },
      "source": [
        "print(arr)"
      ],
      "execution_count": 11,
      "outputs": [
        {
          "output_type": "stream",
          "name": "stdout",
          "text": [
            "[1 2 3 4 5 6]\n"
          ]
        }
      ]
    },
    {
      "cell_type": "code",
      "metadata": {
        "colab": {
          "base_uri": "https://localhost:8080/"
        },
        "id": "Li6E_3SsHVaH",
        "outputId": "45b5fa65-65be-4546-b5a0-d4e6d6f62399"
      },
      "source": [
        "arr[3]"
      ],
      "execution_count": 12,
      "outputs": [
        {
          "output_type": "execute_result",
          "data": {
            "text/plain": [
              "4"
            ]
          },
          "metadata": {},
          "execution_count": 12
        }
      ]
    },
    {
      "cell_type": "code",
      "metadata": {
        "colab": {
          "base_uri": "https://localhost:8080/"
        },
        "id": "2uIEcA4zHcOW",
        "outputId": "d49f7f19-971e-4225-9cca-d229f6c2defd"
      },
      "source": [
        "arr[0]"
      ],
      "execution_count": 13,
      "outputs": [
        {
          "output_type": "execute_result",
          "data": {
            "text/plain": [
              "1"
            ]
          },
          "metadata": {},
          "execution_count": 13
        }
      ]
    },
    {
      "cell_type": "markdown",
      "metadata": {
        "id": "zRf-UPmiHyKN"
      },
      "source": [
        "# INDEXING IN NUMPY"
      ]
    },
    {
      "cell_type": "code",
      "metadata": {
        "colab": {
          "base_uri": "https://localhost:8080/"
        },
        "id": "EHQ6rZ9QH4aN",
        "outputId": "a9ecae62-87c8-437e-e3a2-224e07206a02"
      },
      "source": [
        "arr[0:3]"
      ],
      "execution_count": 14,
      "outputs": [
        {
          "output_type": "execute_result",
          "data": {
            "text/plain": [
              "array([1, 2, 3])"
            ]
          },
          "metadata": {},
          "execution_count": 14
        }
      ]
    },
    {
      "cell_type": "code",
      "metadata": {
        "colab": {
          "base_uri": "https://localhost:8080/"
        },
        "id": "-Og1fFQYH7VP",
        "outputId": "457dea46-19c0-4ef4-ea11-5d414076e57f"
      },
      "source": [
        "arr[1:4]"
      ],
      "execution_count": 15,
      "outputs": [
        {
          "output_type": "execute_result",
          "data": {
            "text/plain": [
              "array([2, 3, 4])"
            ]
          },
          "metadata": {},
          "execution_count": 15
        }
      ]
    },
    {
      "cell_type": "code",
      "metadata": {
        "colab": {
          "base_uri": "https://localhost:8080/"
        },
        "id": "bySnk8WTH-KG",
        "outputId": "c2e819bd-e3bc-4749-83d3-7156768e516f"
      },
      "source": [
        "print(multinested_arr)"
      ],
      "execution_count": 16,
      "outputs": [
        {
          "output_type": "stream",
          "name": "stdout",
          "text": [
            "[[ 1  2  3  4  5]\n",
            " [ 6  7  8  9 10]\n",
            " [11 12 13 14 15]]\n"
          ]
        }
      ]
    },
    {
      "cell_type": "code",
      "metadata": {
        "colab": {
          "base_uri": "https://localhost:8080/"
        },
        "id": "RiGhhmrpIC42",
        "outputId": "83a7f8b8-d61b-4468-dea5-c30a12e3946f"
      },
      "source": [
        "multinested_arr[0:2,2:4]"
      ],
      "execution_count": 17,
      "outputs": [
        {
          "output_type": "execute_result",
          "data": {
            "text/plain": [
              "array([[3, 4],\n",
              "       [8, 9]])"
            ]
          },
          "metadata": {},
          "execution_count": 17
        }
      ]
    },
    {
      "cell_type": "code",
      "metadata": {
        "colab": {
          "base_uri": "https://localhost:8080/"
        },
        "id": "TCIG_MKuIOhf",
        "outputId": "22673d08-b5f4-4501-839f-8406952a9642"
      },
      "source": [
        "multinested_arr[1:,0:3]"
      ],
      "execution_count": 18,
      "outputs": [
        {
          "output_type": "execute_result",
          "data": {
            "text/plain": [
              "array([[ 6,  7,  8],\n",
              "       [11, 12, 13]])"
            ]
          },
          "metadata": {},
          "execution_count": 18
        }
      ]
    },
    {
      "cell_type": "markdown",
      "metadata": {
        "id": "cMqNk19ZIfCg"
      },
      "source": [
        "# GENERATING RANDOM NUMBERS THROUGH NUMPY"
      ]
    },
    {
      "cell_type": "code",
      "metadata": {
        "colab": {
          "base_uri": "https://localhost:8080/"
        },
        "id": "tOsfE0mPIacN",
        "outputId": "60a11e1a-a334-4f48-b472-3d3ae8927796"
      },
      "source": [
        "random_arr=np.arange(0,10, step=1)                 # 10 is exclusive\n",
        "\n",
        "random_arr"
      ],
      "execution_count": 20,
      "outputs": [
        {
          "output_type": "execute_result",
          "data": {
            "text/plain": [
              "array([0, 1, 2, 3, 4, 5, 6, 7, 8, 9])"
            ]
          },
          "metadata": {},
          "execution_count": 20
        }
      ]
    },
    {
      "cell_type": "code",
      "metadata": {
        "colab": {
          "base_uri": "https://localhost:8080/"
        },
        "id": "Q6_wiLBPIxX9",
        "outputId": "be72edf0-c873-4d32-fd64-a3c6c52f72d6"
      },
      "source": [
        "random_arr=np.arange(1,25, step=2)\n",
        "\n",
        "random_arr"
      ],
      "execution_count": 21,
      "outputs": [
        {
          "output_type": "execute_result",
          "data": {
            "text/plain": [
              "array([ 1,  3,  5,  7,  9, 11, 13, 15, 17, 19, 21, 23])"
            ]
          },
          "metadata": {},
          "execution_count": 21
        }
      ]
    },
    {
      "cell_type": "markdown",
      "metadata": {
        "id": "D7cy56JKJD6u"
      },
      "source": [
        "# LINSPACE - USED WHEN WE NEED MANY ELEMENTS LIKE 50 OR 100 OR MORE."
      ]
    },
    {
      "cell_type": "code",
      "metadata": {
        "colab": {
          "base_uri": "https://localhost:8080/"
        },
        "id": "pQwf22B6JBMu",
        "outputId": "ed856288-2e4b-4cd9-b926-b75b8e36333d"
      },
      "source": [
        "np.linspace(1,20,70)                  # 70 elements will be there between 1 and 20"
      ],
      "execution_count": 22,
      "outputs": [
        {
          "output_type": "execute_result",
          "data": {
            "text/plain": [
              "array([ 1.        ,  1.27536232,  1.55072464,  1.82608696,  2.10144928,\n",
              "        2.37681159,  2.65217391,  2.92753623,  3.20289855,  3.47826087,\n",
              "        3.75362319,  4.02898551,  4.30434783,  4.57971014,  4.85507246,\n",
              "        5.13043478,  5.4057971 ,  5.68115942,  5.95652174,  6.23188406,\n",
              "        6.50724638,  6.7826087 ,  7.05797101,  7.33333333,  7.60869565,\n",
              "        7.88405797,  8.15942029,  8.43478261,  8.71014493,  8.98550725,\n",
              "        9.26086957,  9.53623188,  9.8115942 , 10.08695652, 10.36231884,\n",
              "       10.63768116, 10.91304348, 11.1884058 , 11.46376812, 11.73913043,\n",
              "       12.01449275, 12.28985507, 12.56521739, 12.84057971, 13.11594203,\n",
              "       13.39130435, 13.66666667, 13.94202899, 14.2173913 , 14.49275362,\n",
              "       14.76811594, 15.04347826, 15.31884058, 15.5942029 , 15.86956522,\n",
              "       16.14492754, 16.42028986, 16.69565217, 16.97101449, 17.24637681,\n",
              "       17.52173913, 17.79710145, 18.07246377, 18.34782609, 18.62318841,\n",
              "       18.89855072, 19.17391304, 19.44927536, 19.72463768, 20.        ])"
            ]
          },
          "metadata": {},
          "execution_count": 22
        }
      ]
    },
    {
      "cell_type": "markdown",
      "metadata": {
        "id": "y_j_WgB2Js03"
      },
      "source": [
        "# RANDOM.RAND: IN CASE OF random.rand THE RANGE IS FROM 0 TO 1 BY DEFAULT AND THE RANDOM ELEMENTS THAT WE GET ARE FLOATING POINT NUMBERS."
      ]
    },
    {
      "cell_type": "code",
      "metadata": {
        "colab": {
          "base_uri": "https://localhost:8080/"
        },
        "id": "ieW67RLfJXdN",
        "outputId": "cfd04ed3-8a2e-4129-b381-0be523499044"
      },
      "source": [
        "np.random.rand()"
      ],
      "execution_count": 23,
      "outputs": [
        {
          "output_type": "execute_result",
          "data": {
            "text/plain": [
              "0.8903331870690822"
            ]
          },
          "metadata": {},
          "execution_count": 23
        }
      ]
    },
    {
      "cell_type": "code",
      "metadata": {
        "colab": {
          "base_uri": "https://localhost:8080/"
        },
        "id": "ulRYMYpdJ_Bs",
        "outputId": "683ca42b-2b7d-44e3-f1ce-c88ff2a6df18"
      },
      "source": [
        "np.random.rand(5,6)                # 5 rows and 6 columns"
      ],
      "execution_count": 25,
      "outputs": [
        {
          "output_type": "execute_result",
          "data": {
            "text/plain": [
              "array([[0.79136448, 0.8745782 , 0.23254376, 0.53421212, 0.00986523,\n",
              "        0.69008612],\n",
              "       [0.02862882, 0.43635653, 0.21836018, 0.19360042, 0.31232585,\n",
              "        0.98480021],\n",
              "       [0.49628373, 0.90032557, 0.13003432, 0.65009476, 0.96955575,\n",
              "        0.72903591],\n",
              "       [0.85722027, 0.68249594, 0.14719213, 0.82547136, 0.42227436,\n",
              "        0.16205385],\n",
              "       [0.01374927, 0.09432134, 0.02191237, 0.16477435, 0.08853842,\n",
              "        0.18296395]])"
            ]
          },
          "metadata": {},
          "execution_count": 25
        }
      ]
    },
    {
      "cell_type": "markdown",
      "metadata": {
        "id": "4va8lGdyKWga"
      },
      "source": [
        "# RANDOM.RANDINT(): WE CAN SPECIFY THE RANGE AND THE NO OF ELEMENTS IN THE RANGE. THE NUMBERS YOU GET ARE INTEGER NUMBERS."
      ]
    },
    {
      "cell_type": "code",
      "metadata": {
        "colab": {
          "base_uri": "https://localhost:8080/"
        },
        "id": "bqvkuj0XKH99",
        "outputId": "5000f699-0055-4298-87c4-a6034f3627a7"
      },
      "source": [
        "np.random.randint(3,25,10)              # 3 to 25 is the range specified and the number of elements in this range is 10  # where 25 is exclusive"
      ],
      "execution_count": 27,
      "outputs": [
        {
          "output_type": "execute_result",
          "data": {
            "text/plain": [
              "array([15,  4,  6, 12, 15, 24, 21,  6,  7,  3])"
            ]
          },
          "metadata": {},
          "execution_count": 27
        }
      ]
    },
    {
      "cell_type": "code",
      "metadata": {
        "id": "PsfkYYx-Kp58"
      },
      "source": [
        ""
      ],
      "execution_count": null,
      "outputs": []
    }
  ]
}