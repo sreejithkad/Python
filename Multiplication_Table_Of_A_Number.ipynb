{
  "nbformat": 4,
  "nbformat_minor": 0,
  "metadata": {
    "colab": {
      "name": "Multiplication_Table_Of_A_Number.ipynb",
      "provenance": [],
      "collapsed_sections": []
    },
    "kernelspec": {
      "name": "python3",
      "display_name": "Python 3"
    },
    "language_info": {
      "name": "python"
    }
  },
  "cells": [
    {
      "cell_type": "markdown",
      "metadata": {
        "id": "wlK7Nd8x3V34"
      },
      "source": [
        "# WRITE A PYTHON PROGRAM TO DISPLAY THE MULTIPLICATION TABLE OF A NUMBER"
      ]
    },
    {
      "cell_type": "code",
      "metadata": {
        "colab": {
          "base_uri": "https://localhost:8080/"
        },
        "id": "mTdpcDP42ZyN",
        "outputId": "99ce407a-0288-4f2c-dde8-41943ee97e5b"
      },
      "source": [
        "number=int(input(\"Enter the number\"))\n",
        "\n",
        "\n",
        "for i in range(1,13):\n",
        "\n",
        "  num=number*i\n",
        "\n",
        "  print(number,\"*\", i, \"=\", num)"
      ],
      "execution_count": 3,
      "outputs": [
        {
          "output_type": "stream",
          "name": "stdout",
          "text": [
            "Enter the number7\n",
            "7 * 1 = 7\n",
            "7 * 2 = 14\n",
            "7 * 3 = 21\n",
            "7 * 4 = 28\n",
            "7 * 5 = 35\n",
            "7 * 6 = 42\n",
            "7 * 7 = 49\n",
            "7 * 8 = 56\n",
            "7 * 9 = 63\n",
            "7 * 10 = 70\n",
            "7 * 11 = 77\n",
            "7 * 12 = 84\n"
          ]
        }
      ]
    },
    {
      "cell_type": "code",
      "metadata": {
        "id": "dt-xPm7V26IB"
      },
      "source": [
        ""
      ],
      "execution_count": null,
      "outputs": []
    }
  ]
}