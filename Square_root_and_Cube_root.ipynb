{
  "nbformat": 4,
  "nbformat_minor": 0,
  "metadata": {
    "colab": {
      "name": "Square_root_and_Cube_root.ipynb",
      "provenance": [],
      "collapsed_sections": []
    },
    "kernelspec": {
      "name": "python3",
      "display_name": "Python 3"
    },
    "language_info": {
      "name": "python"
    }
  },
  "cells": [
    {
      "cell_type": "markdown",
      "metadata": {
        "id": "RPCO0EuRiGaB"
      },
      "source": [
        "# PYTHON PROGRAM TO FIND THE SQUARE ROOT OF A NUMBER"
      ]
    },
    {
      "cell_type": "markdown",
      "metadata": {
        "id": "HszB7vTkimu-"
      },
      "source": [
        "# METHOD 1"
      ]
    },
    {
      "cell_type": "code",
      "metadata": {
        "colab": {
          "base_uri": "https://localhost:8080/"
        },
        "id": "neDbltaBiFfC",
        "outputId": "236fec1c-1c3c-4a86-8c84-80b7210a62e6"
      },
      "source": [
        "num= int(input(\"Enter the number: \"))\n",
        "\n",
        "\n",
        "square_root= num**0.5\n",
        "\n",
        "\n",
        "print(\"The square root of the number is \", square_root)"
      ],
      "execution_count": 3,
      "outputs": [
        {
          "output_type": "stream",
          "name": "stdout",
          "text": [
            "Enter the number: 64\n",
            "The square root of the number is  8.0\n"
          ]
        }
      ]
    },
    {
      "cell_type": "markdown",
      "metadata": {
        "id": "3r_UrCWiiytE"
      },
      "source": [
        "# METHOD 2"
      ]
    },
    {
      "cell_type": "code",
      "metadata": {
        "id": "iOOLIALdiesv"
      },
      "source": [
        "import math"
      ],
      "execution_count": 6,
      "outputs": []
    },
    {
      "cell_type": "code",
      "metadata": {
        "colab": {
          "base_uri": "https://localhost:8080/"
        },
        "id": "P8o_5PH3i_Hd",
        "outputId": "af74e524-b507-475a-da83-3f46186c9224"
      },
      "source": [
        "num=int(input(\"Enter the number: \"))\n",
        "\n",
        "sq_root= math.sqrt(num)\n",
        "\n",
        "\n",
        "print(\"The square root of the number is: \", sq_root)"
      ],
      "execution_count": 8,
      "outputs": [
        {
          "output_type": "stream",
          "name": "stdout",
          "text": [
            "Enter the number: 36\n",
            "The square root of the number is:  6.0\n"
          ]
        }
      ]
    },
    {
      "cell_type": "markdown",
      "metadata": {
        "id": "78zXRl7Ljpe_"
      },
      "source": [
        "# PYTHON PROGRAM TO FIND THE CUBE ROOT OF A NUMBER"
      ]
    },
    {
      "cell_type": "markdown",
      "metadata": {
        "id": "9u97lxnNldTk"
      },
      "source": [
        "# METHOD 1"
      ]
    },
    {
      "cell_type": "code",
      "metadata": {
        "colab": {
          "base_uri": "https://localhost:8080/"
        },
        "id": "zT0nbZNCjToM",
        "outputId": "a2b2183c-1c87-42bd-f72e-3a2ad5d3a161"
      },
      "source": [
        "num=int(input(\"Enter the number: \"))\n",
        "\n",
        "\n",
        "cube_root= num**(1/3)\n",
        "\n",
        "print(\"The cube root of the number is: \", cube_root)"
      ],
      "execution_count": 18,
      "outputs": [
        {
          "output_type": "stream",
          "name": "stdout",
          "text": [
            "Enter the number: 27\n",
            "The cube root of the number is:  3.0\n"
          ]
        }
      ]
    },
    {
      "cell_type": "markdown",
      "metadata": {
        "id": "Bvw98vJslfkY"
      },
      "source": [
        "# METHOD 2\n"
      ]
    },
    {
      "cell_type": "code",
      "metadata": {
        "id": "mjWCnbmNj9ag"
      },
      "source": [
        "import numpy as np\n"
      ],
      "execution_count": 25,
      "outputs": []
    },
    {
      "cell_type": "code",
      "metadata": {
        "colab": {
          "base_uri": "https://localhost:8080/"
        },
        "id": "Nmyg7J8gljre",
        "outputId": "cd2da310-221f-4234-866e-6e5a052c1cfc"
      },
      "source": [
        "num=int(input(\"Enter the number: \"))\n",
        "\n",
        "cube_root = np.cbrt(num)\n",
        "\n",
        "\n",
        "print(\"The cube root of the number is: \", cube_root)"
      ],
      "execution_count": 27,
      "outputs": [
        {
          "output_type": "stream",
          "name": "stdout",
          "text": [
            "Enter the number: 8\n",
            "The cube root of the number is:  2.0\n"
          ]
        }
      ]
    },
    {
      "cell_type": "code",
      "metadata": {
        "id": "oYMGRURHlx1m"
      },
      "source": [
        ""
      ],
      "execution_count": null,
      "outputs": []
    }
  ]
}