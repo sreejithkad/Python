{
  "nbformat": 4,
  "nbformat_minor": 0,
  "metadata": {
    "colab": {
      "name": "Slicing_w.r.t_List.ipynb",
      "provenance": [],
      "collapsed_sections": []
    },
    "kernelspec": {
      "name": "python3",
      "display_name": "Python 3"
    },
    "language_info": {
      "name": "python"
    }
  },
  "cells": [
    {
      "cell_type": "markdown",
      "metadata": {
        "id": "QaCoKeMvO6uX"
      },
      "source": [
        "# SLICING W.R.T LISTS"
      ]
    },
    {
      "cell_type": "code",
      "metadata": {
        "id": "2ggjKC4vOjPY"
      },
      "source": [
        "l1=['INDIA','USA','RUSSIA','GERMANY','ROMANIA','SOUTH AFRICA']"
      ],
      "execution_count": 1,
      "outputs": []
    },
    {
      "cell_type": "code",
      "metadata": {
        "colab": {
          "base_uri": "https://localhost:8080/"
        },
        "id": "4V4F24dlPNv4",
        "outputId": "c7bbb35a-9bd6-4372-8cb8-95c770bbedd9"
      },
      "source": [
        "l1[:4]"
      ],
      "execution_count": 2,
      "outputs": [
        {
          "output_type": "execute_result",
          "data": {
            "text/plain": [
              "['INDIA', 'USA', 'RUSSIA', 'GERMANY']"
            ]
          },
          "metadata": {},
          "execution_count": 2
        }
      ]
    },
    {
      "cell_type": "code",
      "metadata": {
        "colab": {
          "base_uri": "https://localhost:8080/"
        },
        "id": "HJRoeEb1PUys",
        "outputId": "b2160070-27f2-4225-e812-c6ec28d1f0df"
      },
      "source": [
        "l1[1:4]"
      ],
      "execution_count": 3,
      "outputs": [
        {
          "output_type": "execute_result",
          "data": {
            "text/plain": [
              "['USA', 'RUSSIA', 'GERMANY']"
            ]
          },
          "metadata": {},
          "execution_count": 3
        }
      ]
    },
    {
      "cell_type": "code",
      "metadata": {
        "colab": {
          "base_uri": "https://localhost:8080/"
        },
        "id": "5KIl8JqUPaLS",
        "outputId": "d1562d89-81e5-4c69-a50f-f95ff54c1d99"
      },
      "source": [
        "l1[:-3]"
      ],
      "execution_count": 4,
      "outputs": [
        {
          "output_type": "execute_result",
          "data": {
            "text/plain": [
              "['INDIA', 'USA', 'RUSSIA']"
            ]
          },
          "metadata": {},
          "execution_count": 4
        }
      ]
    },
    {
      "cell_type": "markdown",
      "metadata": {
        "id": "X1bOCfy5PmWF"
      },
      "source": [
        "# REVERSING"
      ]
    },
    {
      "cell_type": "code",
      "metadata": {
        "colab": {
          "base_uri": "https://localhost:8080/"
        },
        "id": "awiVr2O0PioD",
        "outputId": "34e814cf-8638-4188-f1be-5efda1a0bf2c"
      },
      "source": [
        "print(l1)"
      ],
      "execution_count": 5,
      "outputs": [
        {
          "output_type": "stream",
          "name": "stdout",
          "text": [
            "['INDIA', 'USA', 'RUSSIA', 'GERMANY', 'ROMANIA', 'SOUTH AFRICA']\n"
          ]
        }
      ]
    },
    {
      "cell_type": "code",
      "metadata": {
        "colab": {
          "base_uri": "https://localhost:8080/"
        },
        "id": "zaU3T8UuP5Ib",
        "outputId": "d3ab8c2e-7ced-48d1-f379-4f23ff1a7a74"
      },
      "source": [
        "l1[-1:-4:-1]"
      ],
      "execution_count": 8,
      "outputs": [
        {
          "output_type": "execute_result",
          "data": {
            "text/plain": [
              "['SOUTH AFRICA', 'ROMANIA', 'GERMANY']"
            ]
          },
          "metadata": {},
          "execution_count": 8
        }
      ]
    },
    {
      "cell_type": "code",
      "metadata": {
        "colab": {
          "base_uri": "https://localhost:8080/"
        },
        "id": "jRQZwgcVQBMr",
        "outputId": "ec021bbd-dd28-4b9f-9273-13a7edc98b6e"
      },
      "source": [
        "l1[-3::-1]"
      ],
      "execution_count": 9,
      "outputs": [
        {
          "output_type": "execute_result",
          "data": {
            "text/plain": [
              "['GERMANY', 'RUSSIA', 'USA', 'INDIA']"
            ]
          },
          "metadata": {},
          "execution_count": 9
        }
      ]
    },
    {
      "cell_type": "code",
      "metadata": {
        "colab": {
          "base_uri": "https://localhost:8080/"
        },
        "id": "anv9kkbeQT1o",
        "outputId": "f7d508d7-b056-4932-8436-aed24a3b528e"
      },
      "source": [
        "l1[::-1]"
      ],
      "execution_count": 10,
      "outputs": [
        {
          "output_type": "execute_result",
          "data": {
            "text/plain": [
              "['SOUTH AFRICA', 'ROMANIA', 'GERMANY', 'RUSSIA', 'USA', 'INDIA']"
            ]
          },
          "metadata": {},
          "execution_count": 10
        }
      ]
    },
    {
      "cell_type": "markdown",
      "metadata": {
        "id": "iMCnh2K2QpYh"
      },
      "source": [
        "# NESTED LIST"
      ]
    },
    {
      "cell_type": "code",
      "metadata": {
        "id": "entmOMYbQYE7"
      },
      "source": [
        "l2=['INDIA','RUSSIA','JAPAN','INDONESIA','GERMANY',['MUMBAI','NEW YORK','SANGHAI']]"
      ],
      "execution_count": 11,
      "outputs": []
    },
    {
      "cell_type": "code",
      "metadata": {
        "colab": {
          "base_uri": "https://localhost:8080/",
          "height": 36
        },
        "id": "FEvYnJppRTSa",
        "outputId": "dd0e6325-fb91-4305-adbb-dd667a1300bb"
      },
      "source": [
        "l2[2]"
      ],
      "execution_count": 13,
      "outputs": [
        {
          "output_type": "execute_result",
          "data": {
            "application/vnd.google.colaboratory.intrinsic+json": {
              "type": "string"
            },
            "text/plain": [
              "'JAPAN'"
            ]
          },
          "metadata": {},
          "execution_count": 13
        }
      ]
    },
    {
      "cell_type": "code",
      "metadata": {
        "colab": {
          "base_uri": "https://localhost:8080/",
          "height": 36
        },
        "id": "SHBH_bdLRYpw",
        "outputId": "606862ca-3ccf-49e3-cec7-b3bda0bac35e"
      },
      "source": [
        "l2[5][0]"
      ],
      "execution_count": 14,
      "outputs": [
        {
          "output_type": "execute_result",
          "data": {
            "application/vnd.google.colaboratory.intrinsic+json": {
              "type": "string"
            },
            "text/plain": [
              "'MUMBAI'"
            ]
          },
          "metadata": {},
          "execution_count": 14
        }
      ]
    },
    {
      "cell_type": "code",
      "metadata": {
        "colab": {
          "base_uri": "https://localhost:8080/",
          "height": 36
        },
        "id": "6J_hyswgRfAC",
        "outputId": "5701191d-4fc2-4343-8f3e-e6285459e162"
      },
      "source": [
        "l2[5][2]"
      ],
      "execution_count": 15,
      "outputs": [
        {
          "output_type": "execute_result",
          "data": {
            "application/vnd.google.colaboratory.intrinsic+json": {
              "type": "string"
            },
            "text/plain": [
              "'SANGHAI'"
            ]
          },
          "metadata": {},
          "execution_count": 15
        }
      ]
    },
    {
      "cell_type": "markdown",
      "metadata": {
        "id": "EAZBokBqRlvL"
      },
      "source": [
        "# SLICING OPERATION"
      ]
    },
    {
      "cell_type": "code",
      "metadata": {
        "colab": {
          "base_uri": "https://localhost:8080/"
        },
        "id": "Vqef3j2pRwUI",
        "outputId": "4b11180c-f062-4930-d6f9-255b09c03af8"
      },
      "source": [
        "print(l2)"
      ],
      "execution_count": 17,
      "outputs": [
        {
          "output_type": "stream",
          "name": "stdout",
          "text": [
            "['INDIA', 'RUSSIA', 'JAPAN', 'INDONESIA', 'GERMANY', ['MUMBAI', 'NEW YORK', 'SANGHAI']]\n"
          ]
        }
      ]
    },
    {
      "cell_type": "code",
      "metadata": {
        "colab": {
          "base_uri": "https://localhost:8080/"
        },
        "id": "7pB5itoNRiCk",
        "outputId": "78a14e73-c2d6-4758-ab21-c107760ad96f"
      },
      "source": [
        "l2[5][:]"
      ],
      "execution_count": 16,
      "outputs": [
        {
          "output_type": "execute_result",
          "data": {
            "text/plain": [
              "['MUMBAI', 'NEW YORK', 'SANGHAI']"
            ]
          },
          "metadata": {},
          "execution_count": 16
        }
      ]
    },
    {
      "cell_type": "code",
      "metadata": {
        "colab": {
          "base_uri": "https://localhost:8080/",
          "height": 36
        },
        "id": "OeNtQ09aRuKa",
        "outputId": "5d85f6e9-e19c-4761-c3d4-987d443f5b38"
      },
      "source": [
        "l2[-1][-3]"
      ],
      "execution_count": 18,
      "outputs": [
        {
          "output_type": "execute_result",
          "data": {
            "application/vnd.google.colaboratory.intrinsic+json": {
              "type": "string"
            },
            "text/plain": [
              "'MUMBAI'"
            ]
          },
          "metadata": {},
          "execution_count": 18
        }
      ]
    },
    {
      "cell_type": "code",
      "metadata": {
        "id": "_hC6SSRvR-Qa"
      },
      "source": [
        ""
      ],
      "execution_count": null,
      "outputs": []
    }
  ]
}