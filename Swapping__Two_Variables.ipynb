{
  "nbformat": 4,
  "nbformat_minor": 0,
  "metadata": {
    "colab": {
      "name": "Swapping _Two_Variables.ipynb",
      "provenance": [],
      "collapsed_sections": []
    },
    "kernelspec": {
      "name": "python3",
      "display_name": "Python 3"
    },
    "language_info": {
      "name": "python"
    }
  },
  "cells": [
    {
      "cell_type": "markdown",
      "metadata": {
        "id": "ghRbZCHcTiBw"
      },
      "source": [
        "# WRITE A PROGRAM TO SWAP TWO VARIABLES\n"
      ]
    },
    {
      "cell_type": "code",
      "metadata": {
        "colab": {
          "base_uri": "https://localhost:8080/"
        },
        "id": "BTUMhwXCTfDp",
        "outputId": "dc5370d1-b5ae-4046-e2b6-c385ac29054c"
      },
      "source": [
        "num_1=int(input(\"Enter the first number: \"))\n",
        "\n",
        "\n",
        "num_2=int(input(\"Enter the second number: \"))\n",
        "\n",
        "\n",
        "print(\"The first number is: \", num_1)\n",
        "\n",
        "print(\"The second number is: \", num_2)\n",
        "\n",
        "\n",
        "\n",
        "temp=num_1\n",
        "\n",
        "num_1=num_2\n",
        "\n",
        "num_2=temp\n",
        "\n",
        "\n",
        "print(\"The first number after swapping is: \", num_1)\n",
        "\n",
        "print(\"The second number after swapping is: \", num_2)"
      ],
      "execution_count": 3,
      "outputs": [
        {
          "output_type": "stream",
          "name": "stdout",
          "text": [
            "Enter the first number: 25\n",
            "Enter the second number: 48\n",
            "The first number is:  25\n",
            "The second number is:  48\n",
            "The first number after swapping is:  48\n",
            "The second number after swapping is:  25\n"
          ]
        }
      ]
    },
    {
      "cell_type": "code",
      "metadata": {
        "id": "CuUF1CimUcCM"
      },
      "source": [
        ""
      ],
      "execution_count": null,
      "outputs": []
    }
  ]
}