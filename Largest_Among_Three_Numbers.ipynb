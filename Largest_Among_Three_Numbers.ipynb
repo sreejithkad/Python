{
  "nbformat": 4,
  "nbformat_minor": 0,
  "metadata": {
    "colab": {
      "name": "Largest_Among_Three_Numbers.ipynb",
      "provenance": [],
      "collapsed_sections": []
    },
    "kernelspec": {
      "name": "python3",
      "display_name": "Python 3"
    },
    "language_info": {
      "name": "python"
    }
  },
  "cells": [
    {
      "cell_type": "markdown",
      "metadata": {
        "id": "lICiVkgGaHUs"
      },
      "source": [
        "# Python Program to Find the Largest Among Three Numbers\n"
      ]
    },
    {
      "cell_type": "code",
      "metadata": {
        "colab": {
          "base_uri": "https://localhost:8080/"
        },
        "id": "RPpkV80fV1yj",
        "outputId": "c78e266a-d75c-4387-f087-4122f68072a5"
      },
      "source": [
        "num_1=int(input(\"Enter the first number: \"))\n",
        "\n",
        "num_2=int(input(\"Enter the second number: \"))\n",
        "\n",
        "num_3=int(input(\"Enter the third number: \"))\n",
        "\n",
        "\n",
        "if num_1>num_2:\n",
        "\n",
        "  if num_1>num_3:\n",
        "\n",
        "    print(\"The first number which is \", num_1, \"is greater among three numbers\")\n",
        "\n",
        "  else:\n",
        "\n",
        "    print(\"The third number which is \", num_3, \"is greater among three numbers\")\n",
        "\n",
        "\n",
        "\n",
        "elif num_2>num_1:\n",
        "\n",
        "  if num_2>num_3:\n",
        "\n",
        "    print(\"The second number which is \", num_2, \"is greater among the three numbers\")\n",
        "\n",
        "  else:\n",
        "    \n",
        "    print(\"The third number which is \", num_3, \"is greater among the three numbers\")\n",
        "\n",
        "\n",
        "\n"
      ],
      "execution_count": 14,
      "outputs": [
        {
          "output_type": "stream",
          "name": "stdout",
          "text": [
            "Enter the first number: 26\n",
            "Enter the second number: 129\n",
            "Enter the third number: 65\n",
            "The second number which is  129 is greater among the three numbers\n"
          ]
        }
      ]
    },
    {
      "cell_type": "code",
      "metadata": {
        "id": "4mkCeeRfZ9E5"
      },
      "source": [
        ""
      ],
      "execution_count": null,
      "outputs": []
    }
  ]
}