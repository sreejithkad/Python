{
  "nbformat": 4,
  "nbformat_minor": 0,
  "metadata": {
    "colab": {
      "name": "Dictionaries.ipynb",
      "provenance": [],
      "collapsed_sections": []
    },
    "kernelspec": {
      "name": "python3",
      "display_name": "Python 3"
    },
    "language_info": {
      "name": "python"
    }
  },
  "cells": [
    {
      "cell_type": "markdown",
      "metadata": {
        "id": "dg5mfLdMJjxZ"
      },
      "source": [
        "# DICTIONARY: DICTIONARY IS REGARDED TO BE A KEY VALUE PAIR."
      ]
    },
    {
      "cell_type": "code",
      "metadata": {
        "id": "Ko_E0G66Jf7o"
      },
      "source": [
        "receipt={'coke':100,'cake':450,'chips':50}"
      ],
      "execution_count": 1,
      "outputs": []
    },
    {
      "cell_type": "code",
      "metadata": {
        "colab": {
          "base_uri": "https://localhost:8080/"
        },
        "id": "JZxDJZDlJ8XR",
        "outputId": "adb62765-1e50-4587-8a8d-bf5580b72916"
      },
      "source": [
        "print(receipt)"
      ],
      "execution_count": 2,
      "outputs": [
        {
          "output_type": "stream",
          "name": "stdout",
          "text": [
            "{'coke': 100, 'cake': 450, 'chips': 50}\n"
          ]
        }
      ]
    },
    {
      "cell_type": "code",
      "metadata": {
        "colab": {
          "base_uri": "https://localhost:8080/"
        },
        "id": "7M-KAFjnKH4i",
        "outputId": "96659f85-c556-457c-cb85-d86f52cb7bd2"
      },
      "source": [
        "type(receipt)"
      ],
      "execution_count": 3,
      "outputs": [
        {
          "output_type": "execute_result",
          "data": {
            "text/plain": [
              "dict"
            ]
          },
          "metadata": {},
          "execution_count": 3
        }
      ]
    },
    {
      "cell_type": "markdown",
      "metadata": {
        "id": "AfhYGjuEKDX8"
      },
      "source": [
        "# ADDING NEW ELEMENtS IN THE DICTIONARY."
      ]
    },
    {
      "cell_type": "code",
      "metadata": {
        "id": "3px8nviaKAqd"
      },
      "source": [
        "receipt['chocolates']=100"
      ],
      "execution_count": 4,
      "outputs": []
    },
    {
      "cell_type": "code",
      "metadata": {
        "colab": {
          "base_uri": "https://localhost:8080/"
        },
        "id": "xZUlykokKXuW",
        "outputId": "d671f0c0-eff7-4f45-be0b-438bb1186b1e"
      },
      "source": [
        "print(receipt)"
      ],
      "execution_count": 5,
      "outputs": [
        {
          "output_type": "stream",
          "name": "stdout",
          "text": [
            "{'coke': 100, 'cake': 450, 'chips': 50, 'chocolates': 100}\n"
          ]
        }
      ]
    },
    {
      "cell_type": "markdown",
      "metadata": {
        "id": "648t5yJUKcaE"
      },
      "source": [
        "# REMOVING ELEMENTS FROM THE DICTIONARY."
      ]
    },
    {
      "cell_type": "code",
      "metadata": {
        "colab": {
          "base_uri": "https://localhost:8080/"
        },
        "id": "ImQeOu6wKaaY",
        "outputId": "ed6f4704-708b-43d3-a762-8b379ec046c2"
      },
      "source": [
        "receipt.pop('chips')"
      ],
      "execution_count": 6,
      "outputs": [
        {
          "output_type": "execute_result",
          "data": {
            "text/plain": [
              "50"
            ]
          },
          "metadata": {},
          "execution_count": 6
        }
      ]
    },
    {
      "cell_type": "code",
      "metadata": {
        "colab": {
          "base_uri": "https://localhost:8080/"
        },
        "id": "6BlztxCjKj2P",
        "outputId": "827ae719-8de2-4e9f-cd2b-50fc0adf47e7"
      },
      "source": [
        "print(receipt)"
      ],
      "execution_count": 7,
      "outputs": [
        {
          "output_type": "stream",
          "name": "stdout",
          "text": [
            "{'coke': 100, 'cake': 450, 'chocolates': 100}\n"
          ]
        }
      ]
    },
    {
      "cell_type": "markdown",
      "metadata": {
        "id": "0pt_AWc0Kvef"
      },
      "source": [
        "# TO FETCH THE PRICE OF THE CAKE."
      ]
    },
    {
      "cell_type": "code",
      "metadata": {
        "colab": {
          "base_uri": "https://localhost:8080/"
        },
        "id": "pJ_esxk5KpoN",
        "outputId": "4e37213d-ad63-4ade-f378-52aec464a828"
      },
      "source": [
        "receipt['cake']"
      ],
      "execution_count": 8,
      "outputs": [
        {
          "output_type": "execute_result",
          "data": {
            "text/plain": [
              "450"
            ]
          },
          "metadata": {},
          "execution_count": 8
        }
      ]
    },
    {
      "cell_type": "markdown",
      "metadata": {
        "id": "G6T8ba_ELKRZ"
      },
      "source": [
        "# MERGE TWO LISTS INTO ONE DICTIONARY."
      ]
    },
    {
      "cell_type": "code",
      "metadata": {
        "id": "n2fjihWcLCd5"
      },
      "source": [
        "l1=['name','salary','city','age']\n",
        "\n",
        "l2=['sree',60000,'Mumbai',35]"
      ],
      "execution_count": 13,
      "outputs": []
    },
    {
      "cell_type": "code",
      "metadata": {
        "id": "B32-T1kcLbwD"
      },
      "source": [
        "data=dict(zip(l1,l2))"
      ],
      "execution_count": 14,
      "outputs": []
    },
    {
      "cell_type": "code",
      "metadata": {
        "colab": {
          "base_uri": "https://localhost:8080/"
        },
        "id": "igHCL-skLgkh",
        "outputId": "d4be5eef-ad57-4190-8259-333243faca69"
      },
      "source": [
        "print(data)"
      ],
      "execution_count": 15,
      "outputs": [
        {
          "output_type": "stream",
          "name": "stdout",
          "text": [
            "{'name': 'sree', 'salary': 60000, 'city': 'Mumbai', 'age': 35}\n"
          ]
        }
      ]
    },
    {
      "cell_type": "code",
      "metadata": {
        "colab": {
          "base_uri": "https://localhost:8080/"
        },
        "id": "4Tc11uxHLiBR",
        "outputId": "ce9f426d-3c41-45ed-a0a1-4d0d8d9cd247"
      },
      "source": [
        "type(data)"
      ],
      "execution_count": 16,
      "outputs": [
        {
          "output_type": "execute_result",
          "data": {
            "text/plain": [
              "dict"
            ]
          },
          "metadata": {},
          "execution_count": 16
        }
      ]
    },
    {
      "cell_type": "markdown",
      "metadata": {
        "id": "8qbB3jZgL__x"
      },
      "source": [
        "# MERGE TWO DICTIONARIES"
      ]
    },
    {
      "cell_type": "code",
      "metadata": {
        "id": "yjsGzgUnLzX7"
      },
      "source": [
        "dictionary_1={'Name':'sree', 'Age':35,'City':'Navi Mumbai','Salary':75000}\n",
        "\n",
        "dictionary_2={'Chocolates':100,'Chips':75,'Biscuits':50}"
      ],
      "execution_count": 19,
      "outputs": []
    },
    {
      "cell_type": "code",
      "metadata": {
        "id": "9NWFJ72sMjpq"
      },
      "source": [
        "dictionary_new={**dictionary_1,**dictionary_2}"
      ],
      "execution_count": 20,
      "outputs": []
    },
    {
      "cell_type": "code",
      "metadata": {
        "colab": {
          "base_uri": "https://localhost:8080/"
        },
        "id": "8x465CnpM_-H",
        "outputId": "0f32c807-3543-4734-8011-18be7309ef60"
      },
      "source": [
        "print(dictionary_new)"
      ],
      "execution_count": 21,
      "outputs": [
        {
          "output_type": "stream",
          "name": "stdout",
          "text": [
            "{'Name': 'sree', 'Age': 35, 'City': 'Navi Mumbai', 'Salary': 75000, 'Chocolates': 100, 'Chips': 75, 'Biscuits': 50}\n"
          ]
        }
      ]
    },
    {
      "cell_type": "code",
      "metadata": {
        "id": "FTTTCjJ4NC8J"
      },
      "source": [
        ""
      ],
      "execution_count": null,
      "outputs": []
    }
  ]
}