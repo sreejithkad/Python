{
  "nbformat": 4,
  "nbformat_minor": 0,
  "metadata": {
    "colab": {
      "name": "Number_Is_Palindrome_Or_Not.ipynb",
      "provenance": [],
      "collapsed_sections": []
    },
    "kernelspec": {
      "name": "python3",
      "display_name": "Python 3"
    },
    "language_info": {
      "name": "python"
    }
  },
  "cells": [
    {
      "cell_type": "markdown",
      "metadata": {
        "id": "ERZh4xYFAzfH"
      },
      "source": [
        "# WRITE A PYTHON PROGRAM TO FIND WHETHER THE NUMBER IS A PALINDROME OR NOT."
      ]
    },
    {
      "cell_type": "code",
      "metadata": {
        "colab": {
          "base_uri": "https://localhost:8080/"
        },
        "id": "5qBhRC04AVRj",
        "outputId": "f2521fbb-eaff-4304-dbeb-2402f86c7c8c"
      },
      "source": [
        "number=int(input(\"Enter a number: \"))\n",
        "temp=number\n",
        "rev=0\n",
        "while(number>0):\n",
        "    dig=number%10\n",
        "    rev=rev*10+dig\n",
        "    number=number//10\n",
        "if(temp==rev):\n",
        "    print(\"The number is palindrome.\")\n",
        "else:\n",
        "    print(\"The number is not a palindrome.\")"
      ],
      "execution_count": 5,
      "outputs": [
        {
          "output_type": "stream",
          "name": "stdout",
          "text": [
            "Enter a number: 121\n",
            "The number is palindrome.\n"
          ]
        }
      ]
    },
    {
      "cell_type": "code",
      "metadata": {
        "id": "x9nhxZYPAgmQ"
      },
      "source": [
        ""
      ],
      "execution_count": null,
      "outputs": []
    }
  ]
}