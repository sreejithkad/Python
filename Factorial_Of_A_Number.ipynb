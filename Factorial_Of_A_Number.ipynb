{
  "nbformat": 4,
  "nbformat_minor": 0,
  "metadata": {
    "colab": {
      "name": "Factorial_Of_A_Number.ipynb",
      "provenance": [],
      "collapsed_sections": []
    },
    "kernelspec": {
      "name": "python3",
      "display_name": "Python 3"
    },
    "language_info": {
      "name": "python"
    }
  },
  "cells": [
    {
      "cell_type": "markdown",
      "metadata": {
        "id": "NtwgR5FV103i"
      },
      "source": [
        "# Write a Python Program to Find the Factorial of a Number"
      ]
    },
    {
      "cell_type": "code",
      "metadata": {
        "colab": {
          "base_uri": "https://localhost:8080/"
        },
        "id": "TCxSQfg_0DyI",
        "outputId": "ac23e8f4-db9d-4e5a-c6d1-a27db6057adc"
      },
      "source": [
        "number= int(input(\"Enter the number: \"))\n",
        "\n",
        "factorial=1\n",
        "\n",
        "for i in range(1,number+1):\n",
        "\n",
        "\n",
        "  factorial=factorial*i\n",
        "\n",
        "\n",
        "print(\"The factorial of the number\", number, \"is\", factorial)"
      ],
      "execution_count": 3,
      "outputs": [
        {
          "output_type": "stream",
          "name": "stdout",
          "text": [
            "Enter the number: 6\n",
            "The factorial of the number 6 is 720\n"
          ]
        }
      ]
    },
    {
      "cell_type": "code",
      "metadata": {
        "id": "HT-dDlQu1i3k"
      },
      "source": [
        ""
      ],
      "execution_count": null,
      "outputs": []
    }
  ]
}