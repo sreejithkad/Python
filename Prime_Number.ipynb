{
  "nbformat": 4,
  "nbformat_minor": 0,
  "metadata": {
    "colab": {
      "name": "Prime_Number.ipynb",
      "provenance": [],
      "collapsed_sections": []
    },
    "kernelspec": {
      "name": "python3",
      "display_name": "Python 3"
    },
    "language_info": {
      "name": "python"
    }
  },
  "cells": [
    {
      "cell_type": "markdown",
      "metadata": {
        "id": "APKBf62tzMPm"
      },
      "source": [
        "# Write a Python Program to Check Prime Number"
      ]
    },
    {
      "cell_type": "code",
      "metadata": {
        "id": "scT1LZsJc_3H",
        "colab": {
          "base_uri": "https://localhost:8080/"
        },
        "outputId": "41f568f8-36ea-47be-8309-0e4d07bc470f"
      },
      "source": [
        "number=int(input(\"Enter the number: \"))\n",
        "\n",
        "\n",
        "\n",
        "if number>1:\n",
        "\n",
        "  for i in range (2,number):\n",
        "\n",
        "    if(number%i==0):\n",
        "\n",
        "      print(\"The number is not a prime number\")\n",
        "\n",
        "      break\n",
        "\n",
        "\n",
        "  else:\n",
        "    print(\"The number is a prime number\")\n",
        "\n",
        "\n",
        "\n",
        "else:\n",
        "\n",
        "  print(\"The number is not a prime number\")"
      ],
      "execution_count": 11,
      "outputs": [
        {
          "output_type": "stream",
          "name": "stdout",
          "text": [
            "Enter the number: 11\n",
            "The number is a prime number\n"
          ]
        }
      ]
    }
  ]
}