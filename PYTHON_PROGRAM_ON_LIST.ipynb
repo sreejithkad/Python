{
  "nbformat": 4,
  "nbformat_minor": 0,
  "metadata": {
    "colab": {
      "name": "PYTHON_PROGRAM_ON_LIST.ipynb",
      "provenance": [],
      "collapsed_sections": []
    },
    "kernelspec": {
      "name": "python3",
      "display_name": "Python 3"
    },
    "language_info": {
      "name": "python"
    }
  },
  "cells": [
    {
      "cell_type": "markdown",
      "metadata": {
        "id": "w1KVKSGtvj7j"
      },
      "source": [
        "# PYTHON PROGRAM TO FIND THE LARGEST NUMBER IN A LIST"
      ]
    },
    {
      "cell_type": "code",
      "metadata": {
        "colab": {
          "base_uri": "https://localhost:8080/"
        },
        "id": "wC_grjGnu0Wd",
        "outputId": "ca113e74-6fc3-4613-d170-28b0d7418337"
      },
      "source": [
        "my_list=[2,4,8,56,9,84,26,1,3,54,66,102,76]\n",
        "\n",
        "\n",
        "max_list=max(my_list)\n",
        "\n",
        "\n",
        "print(\"The largest number in the list is \",max_list)"
      ],
      "execution_count": 5,
      "outputs": [
        {
          "output_type": "stream",
          "name": "stdout",
          "text": [
            "The largest number in the list is  102\n"
          ]
        }
      ]
    },
    {
      "cell_type": "markdown",
      "metadata": {
        "id": "b5Xm2xjhwssm"
      },
      "source": [
        "# PYTHON PROGRAM TO FIND THE SECOND LARGEST NUMBER IN THE LIST"
      ]
    },
    {
      "cell_type": "code",
      "metadata": {
        "colab": {
          "base_uri": "https://localhost:8080/"
        },
        "id": "HS--2cUgvLjR",
        "outputId": "c5ab5444-dad3-4715-d655-25136b3ea4fe"
      },
      "source": [
        "my_list_1=[25,4,85,96,35,55,21,36,102,39]\n",
        "\n",
        "\n",
        "max_list=max(my_list_1)\n",
        "\n",
        "my_list_1.remove(max_list)\n",
        "\n",
        "\n",
        "max_second_no=max(my_list_1)\n",
        "\n",
        "\n",
        "print(\"The second largest number in the list is \", max_second_no)"
      ],
      "execution_count": 6,
      "outputs": [
        {
          "output_type": "stream",
          "name": "stdout",
          "text": [
            "The second largest number in the list is  96\n"
          ]
        }
      ]
    },
    {
      "cell_type": "markdown",
      "metadata": {
        "id": "bsQkXmW6yBCr"
      },
      "source": [
        "# PYTHON PROGRAM TO PUT EVEN AND ODD ELEMENTS IN A LIST INTO TWO DIFFERENT LISTS"
      ]
    },
    {
      "cell_type": "code",
      "metadata": {
        "colab": {
          "base_uri": "https://localhost:8080/"
        },
        "id": "SZ0jCvPHwpTC",
        "outputId": "73983058-ef6d-4010-abd4-12d0f5501ae3"
      },
      "source": [
        "list_even=[]\n",
        "\n",
        "list_odd=[]\n",
        "\n",
        "my_list_2=[2,5,9,45,63,78,35,7,21,33]\n",
        "\n",
        "for i in my_list_2:\n",
        "\n",
        "  if i%2==0:\n",
        "\n",
        "    list_even.append(i)\n",
        "\n",
        "  else:\n",
        "\n",
        "    list_odd.append(i)\n",
        "\n",
        "\n",
        "print(\"The list with even numbers is \",list_even)\n",
        "\n",
        "\n",
        "print(\"The list with odd numbers is \",list_odd)\n"
      ],
      "execution_count": 8,
      "outputs": [
        {
          "output_type": "stream",
          "name": "stdout",
          "text": [
            "The list with even numbers is  [2, 78]\n",
            "The list with odd numbers is  [5, 9, 45, 63, 35, 7, 21, 33]\n"
          ]
        }
      ]
    },
    {
      "cell_type": "markdown",
      "metadata": {
        "id": "HwWMxCczzPWN"
      },
      "source": [
        "# PYTHON PROGRAM TO MERGE TWO LIST AND SORT IT"
      ]
    },
    {
      "cell_type": "code",
      "metadata": {
        "colab": {
          "base_uri": "https://localhost:8080/"
        },
        "id": "HrOkwnquxw15",
        "outputId": "acd81c7c-c0ef-4cc5-bd5e-a54b400b7758"
      },
      "source": [
        "list_1=[12,5,7,58,69,36,22]\n",
        "\n",
        "list_2=[65,52,44,1,28,98,102]\n",
        "\n",
        "\n",
        "merge_list=list_1+list_2\n",
        "\n",
        "merge_list.sort()\n",
        "\n",
        "print(\"The sorted list after merging two list is \",merge_list)"
      ],
      "execution_count": 11,
      "outputs": [
        {
          "output_type": "stream",
          "name": "stdout",
          "text": [
            "The sorted list after merging two list is  [1, 5, 7, 12, 22, 28, 36, 44, 52, 58, 65, 69, 98, 102]\n"
          ]
        }
      ]
    },
    {
      "cell_type": "markdown",
      "metadata": {
        "id": "tB3PYud85DMk"
      },
      "source": [
        "# PYTHON PROGRAM TO FIND THE SECOND LARGEST NUMBER IN A LIST USING BUBBLE SORT"
      ]
    },
    {
      "cell_type": "code",
      "metadata": {
        "colab": {
          "base_uri": "https://localhost:8080/"
        },
        "id": "OaQDpCORyu2B",
        "outputId": "11996846-171c-462a-b227-45af4598ccde"
      },
      "source": [
        "list_3=[12,5,74,65,96,48,6,7,102,150,36,86]\n",
        "\n",
        "length=len(list_3)\n",
        "\n",
        "\n",
        "for i in range(0,length):\n",
        "\n",
        "  for j in range(0,length-i-1):\n",
        "\n",
        "    if (list_3[j] > list_3[j+1]):\n",
        "      \n",
        "      \n",
        "      temp=list_3[j]\n",
        "\n",
        "      list_3[j]=list_3[j+1]\n",
        "\n",
        "      list_3[j+1]=temp\n",
        "\n",
        "\n",
        "\n",
        "print(\"The second largest number in the list found using bubble sort is\", list_3[length-2])\n",
        "\n"
      ],
      "execution_count": 19,
      "outputs": [
        {
          "output_type": "stream",
          "name": "stdout",
          "text": [
            "The second largest number in the list found using bubble sort is 102\n"
          ]
        }
      ]
    },
    {
      "cell_type": "markdown",
      "metadata": {
        "id": "qtMQV54i6stb"
      },
      "source": [
        "# PYTHON PROGRAM TO SORT A LIST ACCORDING TO THE LENGTH OF THE ELEMENTS"
      ]
    },
    {
      "cell_type": "code",
      "metadata": {
        "colab": {
          "base_uri": "https://localhost:8080/"
        },
        "id": "5lx39MJa2LBJ",
        "outputId": "f1dcba77-1da6-4026-c36e-d9603bbeadf1"
      },
      "source": [
        "name_list=['Suresh','Madhavan','Jackie Bhosale','Anand','Jack']\n",
        "\n",
        "name_list.sort(key=len)\n",
        "\n",
        "print(\"The list of names after sorting it according to the length of the elements is\", name_list)"
      ],
      "execution_count": 21,
      "outputs": [
        {
          "output_type": "stream",
          "name": "stdout",
          "text": [
            "The list of names after sorting it according to the length of the elements is ['Jack', 'Anand', 'Suresh', 'Madhavan', 'Jackie Bhosale']\n"
          ]
        }
      ]
    },
    {
      "cell_type": "markdown",
      "metadata": {
        "id": "pgXS_9lh8H9P"
      },
      "source": [
        "# PYTHON PROGRAM TO CREATE A LIST OF TUPLES WITH THE FIRST ELEMENT AS THE NUMBER AND THE SECOND ELEMENT AS THE SQUARE OF THE NUMBER"
      ]
    },
    {
      "cell_type": "code",
      "metadata": {
        "colab": {
          "base_uri": "https://localhost:8080/"
        },
        "id": "SITe5LrV6Ppt",
        "outputId": "e37d9a94-fb8c-4f32-a8ed-d5d20e3f6e65"
      },
      "source": [
        "lower_range=int(input(\"Enter the lower range: \"))\n",
        "\n",
        "\n",
        "upper_range=int(input(\"Enter the upper range: \"))\n",
        "\n",
        "\n",
        "a=[(x,x**2) for x in range(lower_range,upper_range+1)]\n",
        "\n",
        "print(a)"
      ],
      "execution_count": 24,
      "outputs": [
        {
          "output_type": "stream",
          "name": "stdout",
          "text": [
            "Enter the lower range: 2\n",
            "Enter the upper range: 8\n",
            "[(2, 4), (3, 9), (4, 16), (5, 25), (6, 36), (7, 49), (8, 64)]\n"
          ]
        }
      ]
    },
    {
      "cell_type": "code",
      "metadata": {
        "id": "mcfp-Vau7y01"
      },
      "source": [
        ""
      ],
      "execution_count": null,
      "outputs": []
    }
  ]
}