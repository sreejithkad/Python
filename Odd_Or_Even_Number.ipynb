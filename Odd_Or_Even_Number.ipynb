{
  "nbformat": 4,
  "nbformat_minor": 0,
  "metadata": {
    "colab": {
      "name": "Odd_Or_Even_Number.ipynb",
      "provenance": [],
      "collapsed_sections": []
    },
    "kernelspec": {
      "name": "python3",
      "display_name": "Python 3"
    },
    "language_info": {
      "name": "python"
    }
  },
  "cells": [
    {
      "cell_type": "markdown",
      "metadata": {
        "id": "Vmq9Boh8RheV"
      },
      "source": [
        "# Write a Python Program to Check if a Number is Odd or Even"
      ]
    },
    {
      "cell_type": "code",
      "metadata": {
        "colab": {
          "base_uri": "https://localhost:8080/"
        },
        "id": "5-sIJ1PqQ3wH",
        "outputId": "04a94201-6d28-4808-9f23-bb12327cf593"
      },
      "source": [
        "number=int(input(\"Enter the number: \"))\n",
        "\n",
        "\n",
        "if (number%2==0):\n",
        "\n",
        "  print(\"The number is an even number\")\n",
        "\n",
        "\n",
        "\n",
        "else:\n",
        "\n",
        "  print(\"The number is an odd number\")\n",
        "\n",
        "\n"
      ],
      "execution_count": 6,
      "outputs": [
        {
          "output_type": "stream",
          "name": "stdout",
          "text": [
            "Enter the number: 90\n",
            "The number is an even number\n"
          ]
        }
      ]
    },
    {
      "cell_type": "code",
      "metadata": {
        "id": "Kf3t6U_URUsS"
      },
      "source": [
        ""
      ],
      "execution_count": null,
      "outputs": []
    }
  ]
}