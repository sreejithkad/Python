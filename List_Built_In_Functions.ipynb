{
  "nbformat": 4,
  "nbformat_minor": 0,
  "metadata": {
    "colab": {
      "name": "List_Built_In_Functions.ipynb",
      "provenance": [],
      "collapsed_sections": []
    },
    "kernelspec": {
      "name": "python3",
      "display_name": "Python 3"
    },
    "language_info": {
      "name": "python"
    }
  },
  "cells": [
    {
      "cell_type": "markdown",
      "metadata": {
        "id": "GLoIZDTKTXos"
      },
      "source": [
        "# BUILT IN FUNCTIONS OF LIST"
      ]
    },
    {
      "cell_type": "code",
      "metadata": {
        "id": "NcWLZCYLTcTS"
      },
      "source": [
        "l1=['INDIA','USA','RUSSIA']"
      ],
      "execution_count": 1,
      "outputs": []
    },
    {
      "cell_type": "markdown",
      "metadata": {
        "id": "GoRg6umtTlt5"
      },
      "source": [
        "# APPEND FUNCTION IS USED TO ADD AN ELEMENT AT THE END OF THE LIST."
      ]
    },
    {
      "cell_type": "code",
      "metadata": {
        "id": "bYKqa_LcTiFp"
      },
      "source": [
        "l1.append('KOREA')"
      ],
      "execution_count": 2,
      "outputs": []
    },
    {
      "cell_type": "code",
      "metadata": {
        "colab": {
          "base_uri": "https://localhost:8080/"
        },
        "id": "iOssdTDXTv4L",
        "outputId": "dfa5711d-9b92-4b02-e3a4-88d81c262a4f"
      },
      "source": [
        "print(l1)"
      ],
      "execution_count": 3,
      "outputs": [
        {
          "output_type": "stream",
          "name": "stdout",
          "text": [
            "['INDIA', 'USA', 'RUSSIA', 'KOREA']\n"
          ]
        }
      ]
    },
    {
      "cell_type": "markdown",
      "metadata": {
        "id": "kODF56TtTzsP"
      },
      "source": [
        "# INSERT FUNCTION IS USED TO ADD AN ELEMENT AT THE DESIRED LOCATION."
      ]
    },
    {
      "cell_type": "code",
      "metadata": {
        "id": "6seNrpZjTxRz"
      },
      "source": [
        "l1.insert(2,'GERMANY')"
      ],
      "execution_count": 4,
      "outputs": []
    },
    {
      "cell_type": "code",
      "metadata": {
        "colab": {
          "base_uri": "https://localhost:8080/"
        },
        "id": "vCyrZZoIT_-z",
        "outputId": "2ffde345-208b-48b6-fcb7-e4ef1bd8f18a"
      },
      "source": [
        "print(l1)"
      ],
      "execution_count": 5,
      "outputs": [
        {
          "output_type": "stream",
          "name": "stdout",
          "text": [
            "['INDIA', 'USA', 'GERMANY', 'RUSSIA', 'KOREA']\n"
          ]
        }
      ]
    },
    {
      "cell_type": "code",
      "metadata": {
        "id": "J3m8PoNCUBq6"
      },
      "source": [
        "l1.insert(1,'KOREA')"
      ],
      "execution_count": 6,
      "outputs": []
    },
    {
      "cell_type": "markdown",
      "metadata": {
        "id": "v5oheglvUSlL"
      },
      "source": [
        "# REMOVE FUNCTION IS USED TO REMOVE FIRST OCCURENCE OF THE ELEMENT."
      ]
    },
    {
      "cell_type": "code",
      "metadata": {
        "colab": {
          "base_uri": "https://localhost:8080/"
        },
        "id": "DjNGnCS0UPoR",
        "outputId": "12f5c496-0a80-4558-c908-da6cb934300b"
      },
      "source": [
        "print(l1)"
      ],
      "execution_count": 8,
      "outputs": [
        {
          "output_type": "stream",
          "name": "stdout",
          "text": [
            "['INDIA', 'KOREA', 'USA', 'GERMANY', 'RUSSIA', 'KOREA']\n"
          ]
        }
      ]
    },
    {
      "cell_type": "markdown",
      "metadata": {
        "id": "wArtSC2_UgKj"
      },
      "source": [
        "# KOREA IS APPEARING TWO TIMES SO WE WILL REMOVE KOREA USING REMOVE FUNCTION."
      ]
    },
    {
      "cell_type": "code",
      "metadata": {
        "id": "mo_6PF1tUehD"
      },
      "source": [
        "l1.remove('KOREA')"
      ],
      "execution_count": 9,
      "outputs": []
    },
    {
      "cell_type": "code",
      "metadata": {
        "colab": {
          "base_uri": "https://localhost:8080/"
        },
        "id": "YwUJUGVtU3Ds",
        "outputId": "2115a126-988b-46bb-d842-287767facd51"
      },
      "source": [
        "print(l1)"
      ],
      "execution_count": 10,
      "outputs": [
        {
          "output_type": "stream",
          "name": "stdout",
          "text": [
            "['INDIA', 'USA', 'GERMANY', 'RUSSIA', 'KOREA']\n"
          ]
        }
      ]
    },
    {
      "cell_type": "markdown",
      "metadata": {
        "id": "l0sS4irfU9Pw"
      },
      "source": [
        "# POP FUNCTION IS USED TO REMOVE AN ELEMENT USING ITS INDEX NUMBER."
      ]
    },
    {
      "cell_type": "code",
      "metadata": {
        "colab": {
          "base_uri": "https://localhost:8080/",
          "height": 36
        },
        "id": "lYR2_UXTU5PR",
        "outputId": "2dde0de6-de7f-48a2-d4a7-4321a96cfb41"
      },
      "source": [
        "l1.pop(2)"
      ],
      "execution_count": 11,
      "outputs": [
        {
          "output_type": "execute_result",
          "data": {
            "application/vnd.google.colaboratory.intrinsic+json": {
              "type": "string"
            },
            "text/plain": [
              "'GERMANY'"
            ]
          },
          "metadata": {},
          "execution_count": 11
        }
      ]
    },
    {
      "cell_type": "code",
      "metadata": {
        "colab": {
          "base_uri": "https://localhost:8080/"
        },
        "id": "S3gjvwciVJnI",
        "outputId": "0ea25244-5976-436b-93c8-0452d21162de"
      },
      "source": [
        "print(l1)"
      ],
      "execution_count": 12,
      "outputs": [
        {
          "output_type": "stream",
          "name": "stdout",
          "text": [
            "['INDIA', 'USA', 'RUSSIA', 'KOREA']\n"
          ]
        }
      ]
    },
    {
      "cell_type": "markdown",
      "metadata": {
        "id": "zXu23mplVN4f"
      },
      "source": [
        "# EXTEND FUNCTION IS USED TO ADD MANY ELEMENTS IN THE LIST."
      ]
    },
    {
      "cell_type": "code",
      "metadata": {
        "id": "nUsk6vAvVLXp"
      },
      "source": [
        "l1.extend(['GERMANY','ROMANIA','JAPAN','INDONESIA'])"
      ],
      "execution_count": 15,
      "outputs": []
    },
    {
      "cell_type": "code",
      "metadata": {
        "colab": {
          "base_uri": "https://localhost:8080/"
        },
        "id": "iyVt1JCFVeFR",
        "outputId": "12618ddf-28ad-47b2-8749-943c393ec984"
      },
      "source": [
        "print(l1)"
      ],
      "execution_count": 16,
      "outputs": [
        {
          "output_type": "stream",
          "name": "stdout",
          "text": [
            "['INDIA', 'USA', 'RUSSIA', 'KOREA', 'GERMANY', 'ROMANIA', 'JAPAN', 'INDONESIA']\n"
          ]
        }
      ]
    },
    {
      "cell_type": "markdown",
      "metadata": {
        "id": "8-4FxJ_iVyU_"
      },
      "source": [
        "# NUMERICAL BUILT IN FUNCTIONS OF LIST."
      ]
    },
    {
      "cell_type": "code",
      "metadata": {
        "id": "NXL2Ixu2VpdM"
      },
      "source": [
        "l2=[12,18,95,2,35,89,12,78,46,3,78,12,89,95,45,75]"
      ],
      "execution_count": 17,
      "outputs": []
    },
    {
      "cell_type": "markdown",
      "metadata": {
        "id": "fRNwmGX4WGBC"
      },
      "source": [
        "# MAX FUNCTION IS USED TO SHOW THE LARGEST ELEMENT."
      ]
    },
    {
      "cell_type": "code",
      "metadata": {
        "colab": {
          "base_uri": "https://localhost:8080/"
        },
        "id": "A8XGn1-SWClL",
        "outputId": "15ccc5d5-c5a6-4499-ecc4-dfeca8cb9dc7"
      },
      "source": [
        "max(l2)"
      ],
      "execution_count": 18,
      "outputs": [
        {
          "output_type": "execute_result",
          "data": {
            "text/plain": [
              "95"
            ]
          },
          "metadata": {},
          "execution_count": 18
        }
      ]
    },
    {
      "cell_type": "markdown",
      "metadata": {
        "id": "PhxqHmtoWObI"
      },
      "source": [
        "# MIN FUNCTION IS USED TO SHOW THE SMALLEST ELEMENT."
      ]
    },
    {
      "cell_type": "code",
      "metadata": {
        "colab": {
          "base_uri": "https://localhost:8080/"
        },
        "id": "IqsZGtpkWM8x",
        "outputId": "525712c9-c46b-49ce-8e07-5d50c2e5421b"
      },
      "source": [
        "min(l2)"
      ],
      "execution_count": 19,
      "outputs": [
        {
          "output_type": "execute_result",
          "data": {
            "text/plain": [
              "2"
            ]
          },
          "metadata": {},
          "execution_count": 19
        }
      ]
    },
    {
      "cell_type": "markdown",
      "metadata": {
        "id": "saTIIHU3WVGv"
      },
      "source": [
        "# SUM FUNCTION IS USED TO ADD ALL THE ELEMENTS OF THE LIST."
      ]
    },
    {
      "cell_type": "code",
      "metadata": {
        "colab": {
          "base_uri": "https://localhost:8080/"
        },
        "id": "Rw-XXnMeWTqB",
        "outputId": "02fed876-1249-4132-f9bd-b01ddf33bb5d"
      },
      "source": [
        "sum(l2)"
      ],
      "execution_count": 20,
      "outputs": [
        {
          "output_type": "execute_result",
          "data": {
            "text/plain": [
              "784"
            ]
          },
          "metadata": {},
          "execution_count": 20
        }
      ]
    },
    {
      "cell_type": "markdown",
      "metadata": {
        "id": "dSPPgcP2Wf7S"
      },
      "source": [
        "# SORT FUNCTION IS USED TO ARANGE THE ELEMENTS IN THE ASCENDING ORDER."
      ]
    },
    {
      "cell_type": "code",
      "metadata": {
        "id": "WIm8YpVKWcrq"
      },
      "source": [
        "l2.sort()"
      ],
      "execution_count": 21,
      "outputs": []
    },
    {
      "cell_type": "code",
      "metadata": {
        "colab": {
          "base_uri": "https://localhost:8080/"
        },
        "id": "WXGf8JoOWpD5",
        "outputId": "6df27732-3376-4302-8072-e1d058b59db9"
      },
      "source": [
        "print(l2)"
      ],
      "execution_count": 22,
      "outputs": [
        {
          "output_type": "stream",
          "name": "stdout",
          "text": [
            "[2, 3, 12, 12, 12, 18, 35, 45, 46, 75, 78, 78, 89, 89, 95, 95]\n"
          ]
        }
      ]
    },
    {
      "cell_type": "markdown",
      "metadata": {
        "id": "fqtQFqLoWsae"
      },
      "source": [
        "# LEN FUNCTION IS USED TO COUNT THE TOTAL NUMBER OF ELEMENTS IN THE LIST."
      ]
    },
    {
      "cell_type": "code",
      "metadata": {
        "colab": {
          "base_uri": "https://localhost:8080/"
        },
        "id": "SpBLzvAJWqnq",
        "outputId": "799517ec-3c83-44f5-86b3-98ba0310339d"
      },
      "source": [
        "len(l2)"
      ],
      "execution_count": 23,
      "outputs": [
        {
          "output_type": "execute_result",
          "data": {
            "text/plain": [
              "16"
            ]
          },
          "metadata": {},
          "execution_count": 23
        }
      ]
    },
    {
      "cell_type": "markdown",
      "metadata": {
        "id": "0kE_21USW1qn"
      },
      "source": [
        "# COUNT FUNCTION IS USED TO COUNT THE NUMBER OF OCCURENCES OF A PARTICULAR ELEMENT IN THE LIST."
      ]
    },
    {
      "cell_type": "code",
      "metadata": {
        "colab": {
          "base_uri": "https://localhost:8080/"
        },
        "id": "-NBxXXIZWyWf",
        "outputId": "444b6ada-0e8d-4c7f-800c-8a11d83996b3"
      },
      "source": [
        "l2.count(12)"
      ],
      "execution_count": 24,
      "outputs": [
        {
          "output_type": "execute_result",
          "data": {
            "text/plain": [
              "3"
            ]
          },
          "metadata": {},
          "execution_count": 24
        }
      ]
    },
    {
      "cell_type": "code",
      "metadata": {
        "colab": {
          "base_uri": "https://localhost:8080/"
        },
        "id": "FfsHGTQHW_LR",
        "outputId": "87d909cf-5237-45bd-e2f1-c2d931a58877"
      },
      "source": [
        "l2.count(95)"
      ],
      "execution_count": 25,
      "outputs": [
        {
          "output_type": "execute_result",
          "data": {
            "text/plain": [
              "2"
            ]
          },
          "metadata": {},
          "execution_count": 25
        }
      ]
    },
    {
      "cell_type": "code",
      "metadata": {
        "colab": {
          "base_uri": "https://localhost:8080/"
        },
        "id": "pTlbTWDMXjpp",
        "outputId": "c1865aba-8dbb-45d3-80c1-0cf5d15539af"
      },
      "source": [
        "l1.count('RUSSIA')"
      ],
      "execution_count": 29,
      "outputs": [
        {
          "output_type": "execute_result",
          "data": {
            "text/plain": [
              "1"
            ]
          },
          "metadata": {},
          "execution_count": 29
        }
      ]
    },
    {
      "cell_type": "markdown",
      "metadata": {
        "id": "ZIi394OwXHwp"
      },
      "source": [
        "# REVERSING A LIST"
      ]
    },
    {
      "cell_type": "code",
      "metadata": {
        "colab": {
          "base_uri": "https://localhost:8080/"
        },
        "id": "0nBX_VdQXBvU",
        "outputId": "40d167f5-68e0-4d25-a158-4056195d1af8"
      },
      "source": [
        "print(l2)"
      ],
      "execution_count": 27,
      "outputs": [
        {
          "output_type": "stream",
          "name": "stdout",
          "text": [
            "[2, 3, 12, 12, 12, 18, 35, 45, 46, 75, 78, 78, 89, 89, 95, 95]\n"
          ]
        }
      ]
    },
    {
      "cell_type": "code",
      "metadata": {
        "colab": {
          "base_uri": "https://localhost:8080/"
        },
        "id": "lTAT82XsXMXp",
        "outputId": "da64d199-e67f-4320-e27b-ead6fbac325f"
      },
      "source": [
        "l2[::-1]"
      ],
      "execution_count": 30,
      "outputs": [
        {
          "output_type": "execute_result",
          "data": {
            "text/plain": [
              "[95, 95, 89, 89, 78, 78, 75, 46, 45, 35, 18, 12, 12, 12, 3, 2]"
            ]
          },
          "metadata": {},
          "execution_count": 30
        }
      ]
    },
    {
      "cell_type": "code",
      "metadata": {
        "id": "b2PUA106X7jY"
      },
      "source": [
        ""
      ],
      "execution_count": null,
      "outputs": []
    }
  ]
}