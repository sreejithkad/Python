{
  "nbformat": 4,
  "nbformat_minor": 0,
  "metadata": {
    "colab": {
      "name": "Number_Is_Positive_Negative_Or_Zero.ipynb",
      "provenance": [],
      "collapsed_sections": []
    },
    "kernelspec": {
      "name": "python3",
      "display_name": "Python 3"
    },
    "language_info": {
      "name": "python"
    }
  },
  "cells": [
    {
      "cell_type": "markdown",
      "metadata": {
        "id": "BgmiGo0iOoAh"
      },
      "source": [
        "# Write a Python Program to Check if a Number is Positive, Negative or 0"
      ]
    },
    {
      "cell_type": "markdown",
      "metadata": {
        "id": "xeMUDHY7OsjZ"
      },
      "source": [
        "# METHOD-1: USING IF, ELIF AND ELSE STATEMENT\n",
        "\n",
        "---\n",
        "\n"
      ]
    },
    {
      "cell_type": "code",
      "metadata": {
        "colab": {
          "base_uri": "https://localhost:8080/"
        },
        "id": "jsCNIsX9NzNb",
        "outputId": "143f02ae-e720-41ec-f4c1-77379d1c05ad"
      },
      "source": [
        "number= int(input(\"Enter the number: \"))\n",
        "\n",
        "\n",
        "if(number==0):\n",
        "\n",
        "  print(\"The entered number is zero\")\n",
        "\n",
        "\n",
        "elif(number>0):\n",
        "\n",
        "  print(\"The entered number is positive\")\n",
        "\n",
        "else:\n",
        "\n",
        "  print(\"The entered number is negative\")"
      ],
      "execution_count": 7,
      "outputs": [
        {
          "output_type": "stream",
          "name": "stdout",
          "text": [
            "Enter the number: 25\n",
            "The entered number is positive\n"
          ]
        }
      ]
    },
    {
      "cell_type": "markdown",
      "metadata": {
        "id": "iW7tEJsuO4tZ"
      },
      "source": [
        "# METHOD-2: USING NESTED IF\n"
      ]
    },
    {
      "cell_type": "code",
      "metadata": {
        "colab": {
          "base_uri": "https://localhost:8080/"
        },
        "id": "aSPwfKhgOPRd",
        "outputId": "c475579c-2271-4477-d0df-fc5b871f93df"
      },
      "source": [
        "num=int(input(\"Enter the number: \"))\n",
        "\n",
        "\n",
        "if num>=0:\n",
        "\n",
        "  if num==0:\n",
        "\n",
        "    print(\"The entered number is zero\")\n",
        "\n",
        "  else:\n",
        "\n",
        "    print(\"The entered number is positive\")\n",
        "\n",
        "\n",
        "else:\n",
        "\n",
        "  print(\"The entered number is negative\")"
      ],
      "execution_count": 8,
      "outputs": [
        {
          "output_type": "stream",
          "name": "stdout",
          "text": [
            "Enter the number: -25\n",
            "The entered number is negative\n"
          ]
        }
      ]
    },
    {
      "cell_type": "code",
      "metadata": {
        "id": "0IND0qZOPuba"
      },
      "source": [
        ""
      ],
      "execution_count": null,
      "outputs": []
    }
  ]
}